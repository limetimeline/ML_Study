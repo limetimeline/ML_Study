{
  "nbformat": 4,
  "nbformat_minor": 0,
  "metadata": {
    "colab": {
      "name": "Chap_03.ipynb",
      "provenance": [],
      "collapsed_sections": [],
      "authorship_tag": "ABX9TyMCnw9FcA/eVrrwfm6fKkMz",
      "include_colab_link": true
    },
    "kernelspec": {
      "name": "python3",
      "display_name": "Python 3"
    },
    "language_info": {
      "name": "python"
    }
  },
  "cells": [
    {
      "cell_type": "markdown",
      "metadata": {
        "id": "view-in-github",
        "colab_type": "text"
      },
      "source": [
        "<a href=\"https://colab.research.google.com/github/limetimeline/ML_Study/blob/main/Chap_03.ipynb\" target=\"_parent\"><img src=\"https://colab.research.google.com/assets/colab-badge.svg\" alt=\"Open In Colab\"/></a>"
      ]
    },
    {
      "cell_type": "code",
      "source": [
        "import numpy as np # numpy의 별칭으로 np를 지정함\n",
        "my_array = np.array([1,2,3])\n",
        "my_array"
      ],
      "metadata": {
        "colab": {
          "base_uri": "https://localhost:8080/"
        },
        "id": "leZGGkDHTuIO",
        "outputId": "02e81613-3b2a-46e4-f29c-ee8d9ea9f838"
      },
      "execution_count": 4,
      "outputs": [
        {
          "output_type": "execute_result",
          "data": {
            "text/plain": [
              "array([1, 2, 3])"
            ]
          },
          "metadata": {},
          "execution_count": 4
        }
      ]
    },
    {
      "cell_type": "code",
      "source": [
        "a = np.array([1,2,3]) # 넘파이 ndarray 객체의 생성\n",
        "\n",
        "# a 객체의 형태(shape), 차원, 요소의 자료형, 요소의 크기(byte), 요소의 수\n",
        "a.shape, a.ndim, a.dtype, a.itemsize, a.size"
      ],
      "metadata": {
        "colab": {
          "base_uri": "https://localhost:8080/"
        },
        "id": "QVwVtZzxT9bq",
        "outputId": "fd919fa8-3d4e-4f8c-ef91-5e4500c3ebc7"
      },
      "execution_count": 7,
      "outputs": [
        {
          "output_type": "execute_result",
          "data": {
            "text/plain": [
              "((3,), 1, dtype('int64'), 8, 3)"
            ]
          },
          "metadata": {},
          "execution_count": 7
        }
      ]
    },
    {
      "cell_type": "code",
      "source": [
        "import numpy as np\n",
        "sal = np.array([240, 260, 220, 255])"
      ],
      "metadata": {
        "id": "A7IChhriVgxA"
      },
      "execution_count": 8,
      "outputs": []
    },
    {
      "cell_type": "code",
      "source": [
        "sal = sal + 100 # 스칼라 값 100은 [100, 100, 100, 100]으로 변환됨.\n",
        "print(sal)"
      ],
      "metadata": {
        "colab": {
          "base_uri": "https://localhost:8080/"
        },
        "id": "tauL6F48UozE",
        "outputId": "98b87c2e-f717-4889-beb3-5dd63f564a16"
      },
      "execution_count": 10,
      "outputs": [
        {
          "output_type": "stream",
          "name": "stdout",
          "text": [
            "[440 460 420 455]\n"
          ]
        }
      ]
    },
    {
      "cell_type": "code",
      "source": [
        "scores = np.array([58, 72, 93, 94, 89, 78, 99])\n",
        "scores[3:]  # 인덱스를 생략하면 마지막 요소까지 슬라이싱"
      ],
      "metadata": {
        "colab": {
          "base_uri": "https://localhost:8080/"
        },
        "id": "AQrrtPM9Vx75",
        "outputId": "3362844e-57d9-4b89-b214-9796687fa3ac"
      },
      "execution_count": 11,
      "outputs": [
        {
          "output_type": "execute_result",
          "data": {
            "text/plain": [
              "array([94, 89, 78, 99])"
            ]
          },
          "metadata": {},
          "execution_count": 11
        }
      ]
    },
    {
      "cell_type": "code",
      "source": [
        "scores[4:-1] # 0번째부터 3번째는 생략하고 4번째(89)부터 시작해서 -1번째(끝) 전까지.\n",
        "# 인덱스로 -1을 사용할 경우 78까지 슬라이싱"
      ],
      "metadata": {
        "colab": {
          "base_uri": "https://localhost:8080/"
        },
        "id": "uB9bLFxdWEfB",
        "outputId": "b7fd0924-8df8-4d96-c15f-852a21a87dc3"
      },
      "execution_count": 13,
      "outputs": [
        {
          "output_type": "execute_result",
          "data": {
            "text/plain": [
              "array([89, 78])"
            ]
          },
          "metadata": {},
          "execution_count": 13
        }
      ]
    },
    {
      "cell_type": "code",
      "source": [
        "np_array = np.array([[1,2,3],\n",
        "                     [4,5,6],\n",
        "                     [7,8,9]]) # 2차원 배열(넘파이 다차원 배열)\n",
        "np_array"
      ],
      "metadata": {
        "colab": {
          "base_uri": "https://localhost:8080/"
        },
        "id": "brqXDznrWV4K",
        "outputId": "98b93a29-e557-4d25-f670-d009a8b49a6e"
      },
      "execution_count": 17,
      "outputs": [
        {
          "output_type": "execute_result",
          "data": {
            "text/plain": [
              "array([[1, 2, 3],\n",
              "       [4, 5, 6],\n",
              "       [7, 8, 9]])"
            ]
          },
          "metadata": {},
          "execution_count": 17
        }
      ]
    },
    {
      "cell_type": "code",
      "source": [
        "np_array[0, 2] # 0행 2열"
      ],
      "metadata": {
        "colab": {
          "base_uri": "https://localhost:8080/"
        },
        "id": "yRBa1nZOWn4a",
        "outputId": "3e3cb845-3326-4b5c-bbce-e3c5a98dc521"
      },
      "execution_count": 19,
      "outputs": [
        {
          "output_type": "execute_result",
          "data": {
            "text/plain": [
              "3"
            ]
          },
          "metadata": {},
          "execution_count": 19
        }
      ]
    },
    {
      "cell_type": "code",
      "source": [
        "np_array = np.array([[1,2,3,4], [5,6,7,8],\n",
        "                     [9,10,11,12], [13,14,15,16]])\n",
        "np_array[0:2, 2:4] # [(0,2), (0,3)], [(1,2), (1,3)]\n",
        "#[행, 열]"
      ],
      "metadata": {
        "colab": {
          "base_uri": "https://localhost:8080/"
        },
        "id": "XNSb2zsPW2bB",
        "outputId": "60ad7509-b845-4f88-95d6-30e185f15da9"
      },
      "execution_count": 20,
      "outputs": [
        {
          "output_type": "execute_result",
          "data": {
            "text/plain": [
              "array([[3, 4],\n",
              "       [7, 8]])"
            ]
          },
          "metadata": {},
          "execution_count": 20
        }
      ]
    },
    {
      "cell_type": "code",
      "source": [
        "np_array[0:2][2:4]\n",
        "np_array[0:2] # 이거 먼저 하고 [2:4]\n",
        "# 둘 다 행을 인덱싱하는데 [0:2]한 값은 [[1,2,3,4],[5,6,7,8]]인데 여기서 또 2행, 3행 인덱싱해봤자 존재하지 않아서 안됨."
      ],
      "metadata": {
        "colab": {
          "base_uri": "https://localhost:8080/"
        },
        "id": "DcsVESgXXK4Z",
        "outputId": "f75e8831-e5ac-4516-9c18-38a97a349b9b"
      },
      "execution_count": 24,
      "outputs": [
        {
          "output_type": "execute_result",
          "data": {
            "text/plain": [
              "array([[1, 2, 3, 4],\n",
              "       [5, 6, 7, 8]])"
            ]
          },
          "metadata": {},
          "execution_count": 24
        }
      ]
    },
    {
      "cell_type": "code",
      "source": [
        "values = np.random.rand(100)\n",
        "weights = np.random.rand(100)\n",
        "weighted_values = np.empty(len(values)) # 빈 행렬 생성\n",
        "#  요소별 접근\n",
        "for i in range(len(values)): # 명시적인 작업 지시 : C Style\n",
        "  weighted_values[i] = weights[i] * values[i]"
      ],
      "metadata": {
        "id": "j6kxu8E9YTIo"
      },
      "execution_count": 27,
      "outputs": []
    },
    {
      "cell_type": "code",
      "source": [
        "# 벡터화 연산\n",
        "values = np.random.rand(100)\n",
        "weights = np.random.rand(100)\n",
        "weighted_values = values * weights # 묵시적 벡터 요소별 곱셈 : Numpy Style"
      ],
      "metadata": {
        "id": "hNqvBLVxZSZ4"
      },
      "execution_count": 29,
      "outputs": []
    },
    {
      "cell_type": "code",
      "source": [
        "# 행렬 곱셈. 명시적 구성 (C Style)\n",
        "def matmult_native(a,b):\n",
        "  c = np.zeros( (a.shape[0], b.shape[1]), dtype=int)\n",
        "\n",
        "  for i in range(a.shape[0]):\n",
        "    for j in range(b.shape[0]):\n",
        "      for k in range(a.shape[1]):\n",
        "        c[i,j] += a[i, k] * b[k,j]\n",
        "  return c"
      ],
      "metadata": {
        "id": "fwbU8EudZ4KQ"
      },
      "execution_count": 53,
      "outputs": []
    },
    {
      "cell_type": "code",
      "source": [
        "# 행렬 곱셈. 암묵적 구성 (Numpy Style), 벡터화 연산 & 브로드캐스팅\n",
        "def matmult2d(a,b):\n",
        "  c = np.zeros( (a.shape[0], b.shape[0]), dtype = int)\n",
        "  for i in range(a.shape[0]):\n",
        "    # a[i,:]는 b.T의 각 행에 브로드캐스팅 된다.\n",
        "    c[i,:] = (a[i,:] * b.T).sum(axis=1)\n",
        "  return c"
      ],
      "metadata": {
        "id": "slHB0iBZaagv"
      },
      "execution_count": 61,
      "outputs": []
    },
    {
      "cell_type": "code",
      "source": [
        "ages = np.array([18, 19, 25, 30, 28])\n",
        "y = ages > 20 # 20보다 큰 것들의 논리값\n",
        "print(y)"
      ],
      "metadata": {
        "colab": {
          "base_uri": "https://localhost:8080/"
        },
        "id": "76sa4jDwa2_G",
        "outputId": "d0145d98-3ed4-490a-fb94-e7eddaaeaebc"
      },
      "execution_count": 76,
      "outputs": [
        {
          "output_type": "stream",
          "name": "stdout",
          "text": [
            "[False False  True  True  True]\n"
          ]
        }
      ]
    },
    {
      "cell_type": "code",
      "source": [
        "# 논리 인덱싱\n",
        "print(ages[ages > 20])\n",
        "\n",
        "# 원리\n",
        "print(ages * y) # 조건을 기준으로 논리값이 담긴 y와 값이 담긴 ages가 곱해지면..."
      ],
      "metadata": {
        "colab": {
          "base_uri": "https://localhost:8080/"
        },
        "id": "glhh--dnei10",
        "outputId": "6c346ce6-eef1-4ab0-ff71-11b81cc4bad1"
      },
      "execution_count": 74,
      "outputs": [
        {
          "output_type": "stream",
          "name": "stdout",
          "text": [
            "[25 30 28]\n",
            "[ 0  0 25 30 28]\n"
          ]
        }
      ]
    },
    {
      "cell_type": "code",
      "source": [
        "np_array = np.array([[1,2,3], [4,5,6], [7,8,9]])\n",
        "np_array > 5"
      ],
      "metadata": {
        "colab": {
          "base_uri": "https://localhost:8080/"
        },
        "id": "Pijn7fVIel-l",
        "outputId": "8f42e4cc-83f2-4ad1-f6c9-cc13e3f8fb5d"
      },
      "execution_count": 78,
      "outputs": [
        {
          "output_type": "execute_result",
          "data": {
            "text/plain": [
              "array([[False, False, False],\n",
              "       [False, False,  True],\n",
              "       [ True,  True,  True]])"
            ]
          },
          "metadata": {},
          "execution_count": 78
        }
      ]
    },
    {
      "cell_type": "code",
      "source": [
        "np_array[np_array > 5]"
      ],
      "metadata": {
        "colab": {
          "base_uri": "https://localhost:8080/"
        },
        "id": "-hhqZgKEfVmz",
        "outputId": "bb25da4b-0e04-4d38-e9c1-1a972a59a168"
      },
      "execution_count": 80,
      "outputs": [
        {
          "output_type": "execute_result",
          "data": {
            "text/plain": [
              "array([6, 7, 8, 9])"
            ]
          },
          "metadata": {},
          "execution_count": 80
        }
      ]
    },
    {
      "cell_type": "code",
      "source": [
        "np_array % 2 == 0 # 짝수인지?"
      ],
      "metadata": {
        "colab": {
          "base_uri": "https://localhost:8080/"
        },
        "id": "3o-e4tVRfacV",
        "outputId": "119901f9-cee0-4fa4-cbe0-c334a73bb966"
      },
      "execution_count": 82,
      "outputs": [
        {
          "output_type": "execute_result",
          "data": {
            "text/plain": [
              "array([[False,  True, False],\n",
              "       [ True, False,  True],\n",
              "       [False,  True, False]])"
            ]
          },
          "metadata": {},
          "execution_count": 82
        }
      ]
    },
    {
      "cell_type": "code",
      "source": [
        "np_array[np_array % 2 == 0] # 2차원 배열에서 조건에 해당하는 값들만 추린 1차원 배열"
      ],
      "metadata": {
        "colab": {
          "base_uri": "https://localhost:8080/"
        },
        "id": "Q7ela67ffcaU",
        "outputId": "bc2a1b0d-698c-4923-8d2c-7849a7d27a83"
      },
      "execution_count": 84,
      "outputs": [
        {
          "output_type": "execute_result",
          "data": {
            "text/plain": [
              "array([2, 4, 6, 8])"
            ]
          },
          "metadata": {},
          "execution_count": 84
        }
      ]
    },
    {
      "cell_type": "code",
      "source": [
        "import numpy as np\n",
        "import pandas as pd\n",
        "series = pd.Series([1,3,np.nan, 4]) # np.nan은 결측값\n",
        "series"
      ],
      "metadata": {
        "colab": {
          "base_uri": "https://localhost:8080/"
        },
        "id": "jON3_rnKflzE",
        "outputId": "e53c2524-662e-47f6-f355-a39c64888b7e"
      },
      "execution_count": 87,
      "outputs": [
        {
          "output_type": "execute_result",
          "data": {
            "text/plain": [
              "0    1.0\n",
              "1    3.0\n",
              "2    NaN\n",
              "3    4.0\n",
              "dtype: float64"
            ]
          },
          "metadata": {},
          "execution_count": 87
        }
      ]
    },
    {
      "cell_type": "code",
      "source": [
        "name_series = pd.Series(['김수안', '김수정', '박동윤',\n",
        "                         '강이안', '강지안', '박동민'])\n",
        "age_series = pd.Series([19, 23, 22, 19, 16, 25])\n",
        "school_series = pd.Series(['고교', '대학', '대학',\n",
        "                           '고교', '중학교', '대학원'])\n",
        "grade_series = pd.Series([4.35, 4.23, 4.25, 4.37, 4.25, 4.5])\n",
        "print(name_series, age_series, school_series, grade_series)"
      ],
      "metadata": {
        "colab": {
          "base_uri": "https://localhost:8080/"
        },
        "id": "5saxhVmjgTDa",
        "outputId": "52aa0d79-499c-48a6-ac2f-5fc9e3f6d704"
      },
      "execution_count": 88,
      "outputs": [
        {
          "output_type": "stream",
          "name": "stdout",
          "text": [
            "0    김수안\n",
            "1    김수정\n",
            "2    박동윤\n",
            "3    강이안\n",
            "4    강지안\n",
            "5    박동민\n",
            "dtype: object 0    19\n",
            "1    23\n",
            "2    22\n",
            "3    19\n",
            "4    16\n",
            "5    25\n",
            "dtype: int64 0     고교\n",
            "1     대학\n",
            "2     대학\n",
            "3     고교\n",
            "4    중학교\n",
            "5    대학원\n",
            "dtype: object 0    4.35\n",
            "1    4.23\n",
            "2    4.25\n",
            "3    4.37\n",
            "4    4.25\n",
            "5    4.50\n",
            "dtype: float64\n"
          ]
        }
      ]
    },
    {
      "cell_type": "code",
      "source": [
        "df = pd.DataFrame({'이름' : name_series, '나이' : age_series,\n",
        "                   '학교' : school_series, '평점' : grade_series})\n",
        "print(df)"
      ],
      "metadata": {
        "colab": {
          "base_uri": "https://localhost:8080/"
        },
        "id": "GWZQy5mig2iM",
        "outputId": "4b683b65-e1c3-4c37-e92d-b63cb23a9dc9"
      },
      "execution_count": 89,
      "outputs": [
        {
          "output_type": "stream",
          "name": "stdout",
          "text": [
            "    이름  나이   학교    평점\n",
            "0  김수안  19   고교  4.35\n",
            "1  김수정  23   대학  4.23\n",
            "2  박동윤  22   대학  4.25\n",
            "3  강이안  19   고교  4.37\n",
            "4  강지안  16  중학교  4.25\n",
            "5  박동민  25  대학원  4.50\n"
          ]
        }
      ]
    },
    {
      "cell_type": "code",
      "source": [
        "import pandas as pd\n",
        "\n",
        "path = 'https://github.com/dknife/ML/raw/main/data/'\n",
        "file = path+'vehicle_prod.csv'\n",
        "\n",
        "df=pd.read_csv(file)\n",
        "print(df)\n"
      ],
      "metadata": {
        "colab": {
          "base_uri": "https://localhost:8080/"
        },
        "id": "2dtZiSpJhFqL",
        "outputId": "5657d15b-419e-4cc5-b4ee-23679b997602"
      },
      "execution_count": 92,
      "outputs": [
        {
          "output_type": "stream",
          "name": "stdout",
          "text": [
            "  Unnamed: 0   2007   2008   2009   2010   2011\n",
            "0      China   7.71   7.95  11.96  15.84  16.33\n",
            "1         EU  19.02  17.71  15.00  16.70  17.48\n",
            "2         US  10.47   8.45   5.58   7.60   8.40\n",
            "3      Japan  10.87  10.83   7.55   9.09   7.88\n",
            "4      Korea   4.04   3.78   3.45   4.20   4.62\n",
            "5     Mexico   2.01   2.05   1.50   2.25   2.54\n"
          ]
        }
      ]
    },
    {
      "cell_type": "code",
      "source": [
        "df = pd.read_csv(file, index_col=0)\n",
        "print(df)"
      ],
      "metadata": {
        "colab": {
          "base_uri": "https://localhost:8080/"
        },
        "id": "QMFg_T26h0rS",
        "outputId": "b49bb905-f3f3-4010-9e47-c62a7ac7b3c0"
      },
      "execution_count": 96,
      "outputs": [
        {
          "output_type": "stream",
          "name": "stdout",
          "text": [
            "         2007   2008   2009   2010   2011\n",
            "China    7.71   7.95  11.96  15.84  16.33\n",
            "EU      19.02  17.71  15.00  16.70  17.48\n",
            "US      10.47   8.45   5.58   7.60   8.40\n",
            "Japan   10.87  10.83   7.55   9.09   7.88\n",
            "Korea    4.04   3.78   3.45   4.20   4.62\n",
            "Mexico   2.01   2.05   1.50   2.25   2.54\n"
          ]
        }
      ]
    },
    {
      "cell_type": "code",
      "source": [
        "df_my_index = pd.read_csv(file, index_col = 0) # 첫번째 열(인덱스)을 국가명으로 놓기\n",
        "df_no_index = pd.read_csv(file) # 첫번째 열(인덱스)을 자동 생성\n",
        "print(df_my_index['2007'])\n",
        "print(df_no_index['2007'])"
      ],
      "metadata": {
        "colab": {
          "base_uri": "https://localhost:8080/"
        },
        "id": "xB2Y-IGciSOr",
        "outputId": "4883e416-43d5-4b84-c6df-5899c4b2fb28"
      },
      "execution_count": 99,
      "outputs": [
        {
          "output_type": "stream",
          "name": "stdout",
          "text": [
            "China      7.71\n",
            "EU        19.02\n",
            "US        10.47\n",
            "Japan     10.87\n",
            "Korea      4.04\n",
            "Mexico     2.01\n",
            "Name: 2007, dtype: float64\n",
            "0     7.71\n",
            "1    19.02\n",
            "2    10.47\n",
            "3    10.87\n",
            "4     4.04\n",
            "5     2.01\n",
            "Name: 2007, dtype: float64\n"
          ]
        }
      ]
    },
    {
      "cell_type": "code",
      "source": [
        "print(df[['2007', '2008', '2009']])"
      ],
      "metadata": {
        "colab": {
          "base_uri": "https://localhost:8080/"
        },
        "id": "73ODvvQai8CD",
        "outputId": "a36f28d1-8590-4ca1-8128-3e6d56d5d80a"
      },
      "execution_count": 101,
      "outputs": [
        {
          "output_type": "stream",
          "name": "stdout",
          "text": [
            "         2007   2008   2009\n",
            "China    7.71   7.95  11.96\n",
            "EU      19.02  17.71  15.00\n",
            "US      10.47   8.45   5.58\n",
            "Japan   10.87  10.83   7.55\n",
            "Korea    4.04   3.78   3.45\n",
            "Mexico   2.01   2.05   1.50\n"
          ]
        }
      ]
    },
    {
      "cell_type": "code",
      "source": [
        "import pandas as pd\n",
        "import matplotlib.pyplot as plt\n",
        "\n",
        "df['2009'].plot(kind='bar', color=('orange','r','b','m','c','k')) # orange, red, blue, magenta, cyan, black"
      ],
      "metadata": {
        "colab": {
          "base_uri": "https://localhost:8080/",
          "height": 308
        },
        "id": "JIx38X5EjbEZ",
        "outputId": "abdab60f-104d-4e0b-c85a-25b0eb7539a9"
      },
      "execution_count": 106,
      "outputs": [
        {
          "output_type": "execute_result",
          "data": {
            "text/plain": [
              "<matplotlib.axes._subplots.AxesSubplot at 0x7f000f12d3d0>"
            ]
          },
          "metadata": {},
          "execution_count": 106
        },
        {
          "output_type": "display_data",
          "data": {
            "image/png": "[encoded data removed]",
            "text/plain": [
              "<Figure size 432x288 with 1 Axes>"
            ]
          },
          "metadata": {
            "needs_background": "light"
          }
        }
      ]
    },
    {
      "cell_type": "code",
      "source": [
        "df['2009'].plot(kind='pie') # pie 차트에서는 컬러를 지정하지 않는다."
      ],
      "metadata": {
        "colab": {
          "base_uri": "https://localhost:8080/",
          "height": 266
        },
        "id": "493UWoLEjm66",
        "outputId": "299a70bd-2635-49a4-d969-247eef24527c"
      },
      "execution_count": 109,
      "outputs": [
        {
          "output_type": "execute_result",
          "data": {
            "text/plain": [
              "<matplotlib.axes._subplots.AxesSubplot at 0x7f000eb151d0>"
            ]
          },
          "metadata": {},
          "execution_count": 109
        },
        {
          "output_type": "display_data",
          "data": {
            "image/png": "[encoded data removed]",
            "text/plain": [
              "<Figure size 432x288 with 1 Axes>"
            ]
          },
          "metadata": {}
        }
      ]
    },
    {
      "cell_type": "code",
      "source": [
        "df.head(3) # 상위 3개"
      ],
      "metadata": {
        "colab": {
          "base_uri": "https://localhost:8080/",
          "height": 143
        },
        "id": "eu9R73CXkErA",
        "outputId": "1610fb7b-c83c-4e8b-96fb-44103e962b21"
      },
      "execution_count": 112,
      "outputs": [
        {
          "output_type": "execute_result",
          "data": {
            "text/html": [
              "\n",
              "  <div id=\"df-91671981-f5d6-4a37-9449-41d7fdca8791\">\n",
              "    <div class=\"colab-df-container\">\n",
              "      <div>\n",
              "<style scoped>\n",
              "    .dataframe tbody tr th:only-of-type {\n",
              "        vertical-align: middle;\n",
              "    }\n",
              "\n",
              "    .dataframe tbody tr th {\n",
              "        vertical-align: top;\n",
              "    }\n",
              "\n",
              "    .dataframe thead th {\n",
              "        text-align: right;\n",
              "    }\n",
              "</style>\n",
              "<table border=\"1\" class=\"dataframe\">\n",
              "  <thead>\n",
              "    <tr style=\"text-align: right;\">\n",
              "      <th></th>\n",
              "      <th>2007</th>\n",
              "      <th>2008</th>\n",
              "      <th>2009</th>\n",
              "      <th>2010</th>\n",
              "      <th>2011</th>\n",
              "    </tr>\n",
              "  </thead>\n",
              "  <tbody>\n",
              "    <tr>\n",
              "      <th>China</th>\n",
              "      <td>7.71</td>\n",
              "      <td>7.95</td>\n",
              "      <td>11.96</td>\n",
              "      <td>15.84</td>\n",
              "      <td>16.33</td>\n",
              "    </tr>\n",
              "    <tr>\n",
              "      <th>EU</th>\n",
              "      <td>19.02</td>\n",
              "      <td>17.71</td>\n",
              "      <td>15.00</td>\n",
              "      <td>16.70</td>\n",
              "      <td>17.48</td>\n",
              "    </tr>\n",
              "    <tr>\n",
              "      <th>US</th>\n",
              "      <td>10.47</td>\n",
              "      <td>8.45</td>\n",
              "      <td>5.58</td>\n",
              "      <td>7.60</td>\n",
              "      <td>8.40</td>\n",
              "    </tr>\n",
              "  </tbody>\n",
              "</table>\n",
              "</div>\n",
              "      <button class=\"colab-df-convert\" onclick=\"convertToInteractive('df-91671981-f5d6-4a37-9449-41d7fdca8791')\"\n",
              "              title=\"Convert this dataframe to an interactive table.\"\n",
              "              style=\"display:none;\">\n",
              "        \n",
              "  <svg xmlns=\"http://www.w3.org/2000/svg\" height=\"24px\"viewBox=\"0 0 24 24\"\n",
              "       width=\"24px\">\n",
              "    <path d=\"M0 0h24v24H0V0z\" fill=\"none\"/>\n",
              "    <path d=\"M18.56 5.44l.94 2.06.94-2.06 2.06-.94-2.06-.94-.94-2.06-.94 2.06-2.06.94zm-11 1L8.5 8.5l.94-2.06 2.06-.94-2.06-.94L8.5 2.5l-.94 2.06-2.06.94zm10 10l.94 2.06.94-2.06 2.06-.94-2.06-.94-.94-2.06-.94 2.06-2.06.94z\"/><path d=\"M17.41 7.96l-1.37-1.37c-.4-.4-.92-.59-1.43-.59-.52 0-1.04.2-1.43.59L10.3 9.45l-7.72 7.72c-.78.78-.78 2.05 0 2.83L4 21.41c.39.39.9.59 1.41.59.51 0 1.02-.2 1.41-.59l7.78-7.78 2.81-2.81c.8-.78.8-2.07 0-2.86zM5.41 20L4 18.59l7.72-7.72 1.47 1.35L5.41 20z\"/>\n",
              "  </svg>\n",
              "      </button>\n",
              "      \n",
              "  <style>\n",
              "    .colab-df-container {\n",
              "      display:flex;\n",
              "      flex-wrap:wrap;\n",
              "      gap: 12px;\n",
              "    }\n",
              "\n",
              "    .colab-df-convert {\n",
              "      background-color: #E8F0FE;\n",
              "      border: none;\n",
              "      border-radius: 50%;\n",
              "      cursor: pointer;\n",
              "      display: none;\n",
              "      fill: #1967D2;\n",
              "      height: 32px;\n",
              "      padding: 0 0 0 0;\n",
              "      width: 32px;\n",
              "    }\n",
              "\n",
              "    .colab-df-convert:hover {\n",
              "      background-color: #E2EBFA;\n",
              "      box-shadow: 0px 1px 2px rgba(60, 64, 67, 0.3), 0px 1px 3px 1px rgba(60, 64, 67, 0.15);\n",
              "      fill: #174EA6;\n",
              "    }\n",
              "\n",
              "    [theme=dark] .colab-df-convert {\n",
              "      background-color: #3B4455;\n",
              "      fill: #D2E3FC;\n",
              "    }\n",
              "\n",
              "    [theme=dark] .colab-df-convert:hover {\n",
              "      background-color: #434B5C;\n",
              "      box-shadow: 0px 1px 3px 1px rgba(0, 0, 0, 0.15);\n",
              "      filter: drop-shadow(0px 1px 2px rgba(0, 0, 0, 0.3));\n",
              "      fill: #FFFFFF;\n",
              "    }\n",
              "  </style>\n",
              "\n",
              "      <script>\n",
              "        const buttonEl =\n",
              "          document.querySelector('#df-91671981-f5d6-4a37-9449-41d7fdca8791 button.colab-df-convert');\n",
              "        buttonEl.style.display =\n",
              "          google.colab.kernel.accessAllowed ? 'block' : 'none';\n",
              "\n",
              "        async function convertToInteractive(key) {\n",
              "          const element = document.querySelector('#df-91671981-f5d6-4a37-9449-41d7fdca8791');\n",
              "          const dataTable =\n",
              "            await google.colab.kernel.invokeFunction('convertToInteractive',\n",
              "                                                     [key], {});\n",
              "          if (!dataTable) return;\n",
              "\n",
              "          const docLinkHtml = 'Like what you see? Visit the ' +\n",
              "            '<a target=\"_blank\" href=https://colab.research.google.com/notebooks/data_table.ipynb>data table notebook</a>'\n",
              "            + ' to learn more about interactive tables.';\n",
              "          element.innerHTML = '';\n",
              "          dataTable['output_type'] = 'display_data';\n",
              "          await google.colab.output.renderOutput(dataTable, element);\n",
              "          const docLink = document.createElement('div');\n",
              "          docLink.innerHTML = docLinkHtml;\n",
              "          element.appendChild(docLink);\n",
              "        }\n",
              "      </script>\n",
              "    </div>\n",
              "  </div>\n",
              "  "
            ],
            "text/plain": [
              "        2007   2008   2009   2010   2011\n",
              "China   7.71   7.95  11.96  15.84  16.33\n",
              "EU     19.02  17.71  15.00  16.70  17.48\n",
              "US     10.47   8.45   5.58   7.60   8.40"
            ]
          },
          "metadata": {},
          "execution_count": 112
        }
      ]
    },
    {
      "cell_type": "code",
      "source": [
        "df[2:6] # 2~5행"
      ],
      "metadata": {
        "colab": {
          "base_uri": "https://localhost:8080/",
          "height": 175
        },
        "id": "EJegdTyukYeB",
        "outputId": "648ba5e3-73fa-432d-8c1f-f2780d57d65c"
      },
      "execution_count": 113,
      "outputs": [
        {
          "output_type": "execute_result",
          "data": {
            "text/html": [
              "\n",
              "  <div id=\"df-082338a1-fd7a-4a3d-b9a0-7ca766f589c4\">\n",
              "    <div class=\"colab-df-container\">\n",
              "      <div>\n",
              "<style scoped>\n",
              "    .dataframe tbody tr th:only-of-type {\n",
              "        vertical-align: middle;\n",
              "    }\n",
              "\n",
              "    .dataframe tbody tr th {\n",
              "        vertical-align: top;\n",
              "    }\n",
              "\n",
              "    .dataframe thead th {\n",
              "        text-align: right;\n",
              "    }\n",
              "</style>\n",
              "<table border=\"1\" class=\"dataframe\">\n",
              "  <thead>\n",
              "    <tr style=\"text-align: right;\">\n",
              "      <th></th>\n",
              "      <th>2007</th>\n",
              "      <th>2008</th>\n",
              "      <th>2009</th>\n",
              "      <th>2010</th>\n",
              "      <th>2011</th>\n",
              "    </tr>\n",
              "  </thead>\n",
              "  <tbody>\n",
              "    <tr>\n",
              "      <th>US</th>\n",
              "      <td>10.47</td>\n",
              "      <td>8.45</td>\n",
              "      <td>5.58</td>\n",
              "      <td>7.60</td>\n",
              "      <td>8.40</td>\n",
              "    </tr>\n",
              "    <tr>\n",
              "      <th>Japan</th>\n",
              "      <td>10.87</td>\n",
              "      <td>10.83</td>\n",
              "      <td>7.55</td>\n",
              "      <td>9.09</td>\n",
              "      <td>7.88</td>\n",
              "    </tr>\n",
              "    <tr>\n",
              "      <th>Korea</th>\n",
              "      <td>4.04</td>\n",
              "      <td>3.78</td>\n",
              "      <td>3.45</td>\n",
              "      <td>4.20</td>\n",
              "      <td>4.62</td>\n",
              "    </tr>\n",
              "    <tr>\n",
              "      <th>Mexico</th>\n",
              "      <td>2.01</td>\n",
              "      <td>2.05</td>\n",
              "      <td>1.50</td>\n",
              "      <td>2.25</td>\n",
              "      <td>2.54</td>\n",
              "    </tr>\n",
              "  </tbody>\n",
              "</table>\n",
              "</div>\n",
              "      <button class=\"colab-df-convert\" onclick=\"convertToInteractive('df-082338a1-fd7a-4a3d-b9a0-7ca766f589c4')\"\n",
              "              title=\"Convert this dataframe to an interactive table.\"\n",
              "              style=\"display:none;\">\n",
              "        \n",
              "  <svg xmlns=\"http://www.w3.org/2000/svg\" height=\"24px\"viewBox=\"0 0 24 24\"\n",
              "       width=\"24px\">\n",
              "    <path d=\"M0 0h24v24H0V0z\" fill=\"none\"/>\n",
              "    <path d=\"M18.56 5.44l.94 2.06.94-2.06 2.06-.94-2.06-.94-.94-2.06-.94 2.06-2.06.94zm-11 1L8.5 8.5l.94-2.06 2.06-.94-2.06-.94L8.5 2.5l-.94 2.06-2.06.94zm10 10l.94 2.06.94-2.06 2.06-.94-2.06-.94-.94-2.06-.94 2.06-2.06.94z\"/><path d=\"M17.41 7.96l-1.37-1.37c-.4-.4-.92-.59-1.43-.59-.52 0-1.04.2-1.43.59L10.3 9.45l-7.72 7.72c-.78.78-.78 2.05 0 2.83L4 21.41c.39.39.9.59 1.41.59.51 0 1.02-.2 1.41-.59l7.78-7.78 2.81-2.81c.8-.78.8-2.07 0-2.86zM5.41 20L4 18.59l7.72-7.72 1.47 1.35L5.41 20z\"/>\n",
              "  </svg>\n",
              "      </button>\n",
              "      \n",
              "  <style>\n",
              "    .colab-df-container {\n",
              "      display:flex;\n",
              "      flex-wrap:wrap;\n",
              "      gap: 12px;\n",
              "    }\n",
              "\n",
              "    .colab-df-convert {\n",
              "      background-color: #E8F0FE;\n",
              "      border: none;\n",
              "      border-radius: 50%;\n",
              "      cursor: pointer;\n",
              "      display: none;\n",
              "      fill: #1967D2;\n",
              "      height: 32px;\n",
              "      padding: 0 0 0 0;\n",
              "      width: 32px;\n",
              "    }\n",
              "\n",
              "    .colab-df-convert:hover {\n",
              "      background-color: #E2EBFA;\n",
              "      box-shadow: 0px 1px 2px rgba(60, 64, 67, 0.3), 0px 1px 3px 1px rgba(60, 64, 67, 0.15);\n",
              "      fill: #174EA6;\n",
              "    }\n",
              "\n",
              "    [theme=dark] .colab-df-convert {\n",
              "      background-color: #3B4455;\n",
              "      fill: #D2E3FC;\n",
              "    }\n",
              "\n",
              "    [theme=dark] .colab-df-convert:hover {\n",
              "      background-color: #434B5C;\n",
              "      box-shadow: 0px 1px 3px 1px rgba(0, 0, 0, 0.15);\n",
              "      filter: drop-shadow(0px 1px 2px rgba(0, 0, 0, 0.3));\n",
              "      fill: #FFFFFF;\n",
              "    }\n",
              "  </style>\n",
              "\n",
              "      <script>\n",
              "        const buttonEl =\n",
              "          document.querySelector('#df-082338a1-fd7a-4a3d-b9a0-7ca766f589c4 button.colab-df-convert');\n",
              "        buttonEl.style.display =\n",
              "          google.colab.kernel.accessAllowed ? 'block' : 'none';\n",
              "\n",
              "        async function convertToInteractive(key) {\n",
              "          const element = document.querySelector('#df-082338a1-fd7a-4a3d-b9a0-7ca766f589c4');\n",
              "          const dataTable =\n",
              "            await google.colab.kernel.invokeFunction('convertToInteractive',\n",
              "                                                     [key], {});\n",
              "          if (!dataTable) return;\n",
              "\n",
              "          const docLinkHtml = 'Like what you see? Visit the ' +\n",
              "            '<a target=\"_blank\" href=https://colab.research.google.com/notebooks/data_table.ipynb>data table notebook</a>'\n",
              "            + ' to learn more about interactive tables.';\n",
              "          element.innerHTML = '';\n",
              "          dataTable['output_type'] = 'display_data';\n",
              "          await google.colab.output.renderOutput(dataTable, element);\n",
              "          const docLink = document.createElement('div');\n",
              "          docLink.innerHTML = docLinkHtml;\n",
              "          element.appendChild(docLink);\n",
              "        }\n",
              "      </script>\n",
              "    </div>\n",
              "  </div>\n",
              "  "
            ],
            "text/plain": [
              "         2007   2008  2009  2010  2011\n",
              "US      10.47   8.45  5.58  7.60  8.40\n",
              "Japan   10.87  10.83  7.55  9.09  7.88\n",
              "Korea    4.04   3.78  3.45  4.20  4.62\n",
              "Mexico   2.01   2.05  1.50  2.25  2.54"
            ]
          },
          "metadata": {},
          "execution_count": 113
        }
      ]
    },
    {
      "cell_type": "code",
      "source": [
        "df.loc['Korea'] # 행의 레이블로 인덱싱을 하려면 .loc를 사용"
      ],
      "metadata": {
        "colab": {
          "base_uri": "https://localhost:8080/"
        },
        "id": "tHQg5Jdskora",
        "outputId": "2c82c1cd-1cb6-41c9-d00f-76ec716c4477"
      },
      "execution_count": 118,
      "outputs": [
        {
          "output_type": "execute_result",
          "data": {
            "text/plain": [
              "2007    4.04\n",
              "2008    3.78\n",
              "2009    3.45\n",
              "2010    4.20\n",
              "2011    4.62\n",
              "Name: Korea, dtype: float64"
            ]
          },
          "metadata": {},
          "execution_count": 118
        }
      ]
    },
    {
      "cell_type": "code",
      "source": [
        "print(df['2011'])\n",
        "\n",
        "df['2011'][[0,4]] # 2011년을 기준으로 한 배열 중 0행과 4행"
      ],
      "metadata": {
        "colab": {
          "base_uri": "https://localhost:8080/"
        },
        "id": "0L9ZPfgBkp2J",
        "outputId": "86a4e82e-9c0c-411b-9b93-bff1a835c7b9"
      },
      "execution_count": 122,
      "outputs": [
        {
          "output_type": "stream",
          "name": "stdout",
          "text": [
            "China     16.33\n",
            "EU        17.48\n",
            "US         8.40\n",
            "Japan      7.88\n",
            "Korea      4.62\n",
            "Mexico     2.54\n",
            "Name: 2011, dtype: float64\n"
          ]
        },
        {
          "output_type": "execute_result",
          "data": {
            "text/plain": [
              "China    16.33\n",
              "Korea     4.62\n",
              "Name: 2011, dtype: float64"
            ]
          },
          "metadata": {},
          "execution_count": 122
        }
      ]
    },
    {
      "cell_type": "code",
      "source": [
        "df['2011'][4]\n",
        "df.loc['Korea', '2011'] # df['2011'][4]와 같다."
      ],
      "metadata": {
        "colab": {
          "base_uri": "https://localhost:8080/"
        },
        "id": "xUPByNoIlJBv",
        "outputId": "a8f73488-0ce8-4031-eaa6-a8c2de39bcc7"
      },
      "execution_count": 126,
      "outputs": [
        {
          "output_type": "execute_result",
          "data": {
            "text/plain": [
              "4.62"
            ]
          },
          "metadata": {},
          "execution_count": 126
        }
      ]
    },
    {
      "cell_type": "code",
      "source": [
        "df['total'] = df.sum(axis=1) # axis가 0이면 열의 합, 1이면 행의 합\n",
        "print(df)"
      ],
      "metadata": {
        "colab": {
          "base_uri": "https://localhost:8080/"
        },
        "id": "HS5Zmd_Xlgkh",
        "outputId": "421aca37-40ae-4a40-904a-d610e085aa87"
      },
      "execution_count": 129,
      "outputs": [
        {
          "output_type": "stream",
          "name": "stdout",
          "text": [
            "         2007   2008   2009   2010   2011  total\n",
            "China    7.71   7.95  11.96  15.84  16.33  59.79\n",
            "EU      19.02  17.71  15.00  16.70  17.48  85.91\n",
            "US      10.47   8.45   5.58   7.60   8.40  40.50\n",
            "Japan   10.87  10.83   7.55   9.09   7.88  46.22\n",
            "Korea    4.04   3.78   3.45   4.20   4.62  20.09\n",
            "Mexico   2.01   2.05   1.50   2.25   2.54  10.35\n"
          ]
        }
      ]
    },
    {
      "cell_type": "code",
      "source": [
        "import pandas as pd\n",
        "\n",
        "path = 'https://github.com/dknife/ML/raw/main/data/'\n",
        "weather_file = path + 'weather.csv'\n",
        "\n",
        "weather = pd.read_csv(weather_file, index_col = 0, encoding='CP949')\n",
        "print(weather.head(3))\n",
        "print('weather 데이터의 shape :', weather.shape)"
      ],
      "metadata": {
        "colab": {
          "base_uri": "https://localhost:8080/"
        },
        "id": "LLYWR4VKlkgJ",
        "outputId": "93f5efa0-d238-41d5-e817-a8c7ec3cac97"
      },
      "execution_count": 147,
      "outputs": [
        {
          "output_type": "stream",
          "name": "stdout",
          "text": [
            "            평균기온  최대풍속  평균풍속\n",
            "일시                          \n",
            "2010-08-01  28.7   8.3   3.4\n",
            "2010-08-02  25.2   8.7   3.8\n",
            "2010-08-03  22.1   6.3   2.9\n",
            "weather 데이터의 shape : (3653, 3)\n"
          ]
        }
      ]
    },
    {
      "cell_type": "code",
      "source": [
        "print(weather.describe())"
      ],
      "metadata": {
        "colab": {
          "base_uri": "https://localhost:8080/"
        },
        "id": "wkb3gxRDnwQQ",
        "outputId": "cf553628-30dd-4482-d7f7-41576e05fa37"
      },
      "execution_count": 135,
      "outputs": [
        {
          "output_type": "stream",
          "name": "stdout",
          "text": [
            "              평균기온         최대풍속         평균풍속\n",
            "count  3653.000000  3649.000000  3647.000000\n",
            "mean     12.942102     7.911099     3.936441\n",
            "std       8.538507     3.029862     1.888473\n",
            "min      -9.000000     2.000000     0.200000\n",
            "25%       5.400000     5.700000     2.500000\n",
            "50%      13.800000     7.600000     3.600000\n",
            "75%      20.100000     9.700000     5.000000\n",
            "max      31.300000    26.000000    14.900000\n"
          ]
        }
      ]
    },
    {
      "cell_type": "code",
      "source": [
        "print('평균 분석 ---------------------------')\n",
        "print(weather.mean())\n",
        "print('표준편차 분석 -----------------------')\n",
        "print(weather.std())"
      ],
      "metadata": {
        "colab": {
          "base_uri": "https://localhost:8080/"
        },
        "id": "rfJMdzgzoMYB",
        "outputId": "466c483c-2ae6-4678-ae73-5a31925fc566"
      },
      "execution_count": 136,
      "outputs": [
        {
          "output_type": "stream",
          "name": "stdout",
          "text": [
            "평균 분석 ---------------------------\n",
            "평균기온    12.942102\n",
            "최대풍속     7.911099\n",
            "평균풍속     3.936441\n",
            "dtype: float64\n",
            "표준편차 분석 -----------------------\n",
            "평균기온    8.538507\n",
            "최대풍속    3.029862\n",
            "평균풍속    1.888473\n",
            "dtype: float64\n"
          ]
        }
      ]
    },
    {
      "cell_type": "code",
      "source": [
        "weather[['최대풍속', '평균풍속']].max()"
      ],
      "metadata": {
        "colab": {
          "base_uri": "https://localhost:8080/"
        },
        "id": "hXD9fpFfoiuP",
        "outputId": "0802dbbd-1426-4086-8540-eed333d30619"
      },
      "execution_count": 138,
      "outputs": [
        {
          "output_type": "execute_result",
          "data": {
            "text/plain": [
              "최대풍속    26.0\n",
              "평균풍속    14.9\n",
              "dtype: float64"
            ]
          },
          "metadata": {},
          "execution_count": 138
        }
      ]
    },
    {
      "cell_type": "code",
      "source": [
        "weather.count() # 결손값(NaN)이 포함되어 있는 열에서 개수 차이가 난다."
      ],
      "metadata": {
        "colab": {
          "base_uri": "https://localhost:8080/"
        },
        "id": "NulrjmB4o2cP",
        "outputId": "89106163-881d-4e8b-9cd7-255ad8c65b17"
      },
      "execution_count": 139,
      "outputs": [
        {
          "output_type": "execute_result",
          "data": {
            "text/plain": [
              "평균기온    3653\n",
              "최대풍속    3649\n",
              "평균풍속    3647\n",
              "dtype: int64"
            ]
          },
          "metadata": {},
          "execution_count": 139
        }
      ]
    },
    {
      "cell_type": "code",
      "source": [
        "# .isna() 함수는 결손값(NaN)이 있는지 불리언 값으로 반환\n",
        "missing_data = weather[weather['평균풍속'].isna()] # 평균풍속 열이 NaN인 데이터.\n",
        "print(missing_data) # weather['최대풍속'].isna()를 하면 4개의 결손값이 포함된 데이터를 보여준다."
      ],
      "metadata": {
        "colab": {
          "base_uri": "https://localhost:8080/"
        },
        "id": "6Z9R_5pxpLbW",
        "outputId": "bf9a442f-4b02-4b22-91b6-70280fdb22a0"
      },
      "execution_count": 141,
      "outputs": [
        {
          "output_type": "stream",
          "name": "stdout",
          "text": [
            "            평균기온  최대풍속  평균풍속\n",
            "일시                          \n",
            "2012-02-11  -0.7   NaN   NaN\n",
            "2012-02-12   0.4   NaN   NaN\n",
            "2012-02-13   4.0   NaN   NaN\n",
            "2015-03-22  10.1  11.6   NaN\n",
            "2015-04-01   7.3  12.1   NaN\n",
            "2019-04-18  15.7  11.7   NaN\n"
          ]
        }
      ]
    },
    {
      "cell_type": "code",
      "source": [
        "# dropna() 함수는 결손값을 제거해줌.\n",
        "# pandas.DataFrame.dropna(axis=0, how='any', inplace=False)\n",
        "# axis가 0이면 결손데이터를 포함한 행 삭제, 1이면 결손데이터를 포함한 열 삭제\n",
        "# how의 값이 'any'이면 결손 데이터가 하나라도 포함되면 제거, 'all'이면 axis인자에 따라서 행 혹은 열 전체가 결손데이터이어야 제거.\n",
        "# inplace가 True이면 원본 데이터에서 결손데이터를 삭제, False면 원본은 그대로 두고 고쳐진 데이터프레임 반환"
      ],
      "metadata": {
        "id": "6XdzFm-dpjce"
      },
      "execution_count": 142,
      "outputs": []
    },
    {
      "cell_type": "code",
      "source": [
        "# fillna() 함수는 결손값을 다른 값으로 채움(보통 0)\n",
        "weather.fillna(0, inplace=True) # 0으로 채우고, inplace값이 True이므로 원본 데이터프레임을 수정\n",
        "print(weather.loc['2012-02-11']) # NaN(결손값)이 존재했던 2012-02-11행의 결손값이 0으로 수정되었다."
      ],
      "metadata": {
        "colab": {
          "base_uri": "https://localhost:8080/"
        },
        "id": "A3iWHA2hrZb9",
        "outputId": "138e752a-90e4-4f39-f10b-7709e08e25a7"
      },
      "execution_count": 143,
      "outputs": [
        {
          "output_type": "stream",
          "name": "stdout",
          "text": [
            "평균기온   -0.7\n",
            "최대풍속    0.0\n",
            "평균풍속    0.0\n",
            "Name: 2012-02-11, dtype: float64\n"
          ]
        }
      ]
    },
    {
      "cell_type": "code",
      "source": [
        "weather = pd.read_csv(weather_file, encoding='CP949')\n",
        "weather['month'] = pd.DatetimeIndex(weather['일시']).month\n",
        "means = weather.groupby('month').mean()\n",
        "print(means)"
      ],
      "metadata": {
        "colab": {
          "base_uri": "https://localhost:8080/"
        },
        "id": "LGqzKyL6ruaO",
        "outputId": "d1cb7f13-3249-4da3-b052-fb87e53531f9"
      },
      "execution_count": 145,
      "outputs": [
        {
          "output_type": "stream",
          "name": "stdout",
          "text": [
            "            평균기온      최대풍속      평균풍속\n",
            "month                               \n",
            "1       1.598387  8.158065  3.757419\n",
            "2       2.136396  8.225357  3.946786\n",
            "3       6.250323  8.871935  4.390291\n",
            "4      11.064667  9.305017  4.622483\n",
            "5      16.564194  8.548710  4.219355\n",
            "6      19.616667  6.945667  3.461000\n",
            "7      23.328387  7.322581  3.877419\n",
            "8      24.748710  6.853226  3.596129\n",
            "9      20.323667  6.896333  3.661667\n",
            "10     15.383871  7.766774  3.961613\n",
            "11      9.889667  8.013333  3.930667\n",
            "12      3.753548  8.045484  3.817097\n"
          ]
        }
      ]
    },
    {
      "cell_type": "code",
      "source": [
        "means['평균풍속'] >= 4.0"
      ],
      "metadata": {
        "colab": {
          "base_uri": "https://localhost:8080/"
        },
        "id": "kT1bJjbLsYxe",
        "outputId": "c45fa903-cf8e-4d23-c471-ed28ca5062c8"
      },
      "execution_count": 148,
      "outputs": [
        {
          "output_type": "execute_result",
          "data": {
            "text/plain": [
              "month\n",
              "1     False\n",
              "2     False\n",
              "3      True\n",
              "4      True\n",
              "5      True\n",
              "6     False\n",
              "7     False\n",
              "8     False\n",
              "9     False\n",
              "10    False\n",
              "11    False\n",
              "12    False\n",
              "Name: 평균풍속, dtype: bool"
            ]
          },
          "metadata": {},
          "execution_count": 148
        }
      ]
    },
    {
      "cell_type": "code",
      "source": [
        "means[means['평균풍속']>=4.0]"
      ],
      "metadata": {
        "colab": {
          "base_uri": "https://localhost:8080/",
          "height": 175
        },
        "id": "czcUfwSrtLKl",
        "outputId": "e157562b-1b8d-4ed8-cc75-2b7b4b8d42ab"
      },
      "execution_count": 150,
      "outputs": [
        {
          "output_type": "execute_result",
          "data": {
            "text/html": [
              "\n",
              "  <div id=\"df-9cfda4f9-4400-42e3-b85f-3f93c986d798\">\n",
              "    <div class=\"colab-df-container\">\n",
              "      <div>\n",
              "<style scoped>\n",
              "    .dataframe tbody tr th:only-of-type {\n",
              "        vertical-align: middle;\n",
              "    }\n",
              "\n",
              "    .dataframe tbody tr th {\n",
              "        vertical-align: top;\n",
              "    }\n",
              "\n",
              "    .dataframe thead th {\n",
              "        text-align: right;\n",
              "    }\n",
              "</style>\n",
              "<table border=\"1\" class=\"dataframe\">\n",
              "  <thead>\n",
              "    <tr style=\"text-align: right;\">\n",
              "      <th></th>\n",
              "      <th>평균기온</th>\n",
              "      <th>최대풍속</th>\n",
              "      <th>평균풍속</th>\n",
              "    </tr>\n",
              "    <tr>\n",
              "      <th>month</th>\n",
              "      <th></th>\n",
              "      <th></th>\n",
              "      <th></th>\n",
              "    </tr>\n",
              "  </thead>\n",
              "  <tbody>\n",
              "    <tr>\n",
              "      <th>3</th>\n",
              "      <td>6.250323</td>\n",
              "      <td>8.871935</td>\n",
              "      <td>4.390291</td>\n",
              "    </tr>\n",
              "    <tr>\n",
              "      <th>4</th>\n",
              "      <td>11.064667</td>\n",
              "      <td>9.305017</td>\n",
              "      <td>4.622483</td>\n",
              "    </tr>\n",
              "    <tr>\n",
              "      <th>5</th>\n",
              "      <td>16.564194</td>\n",
              "      <td>8.548710</td>\n",
              "      <td>4.219355</td>\n",
              "    </tr>\n",
              "  </tbody>\n",
              "</table>\n",
              "</div>\n",
              "      <button class=\"colab-df-convert\" onclick=\"convertToInteractive('df-9cfda4f9-4400-42e3-b85f-3f93c986d798')\"\n",
              "              title=\"Convert this dataframe to an interactive table.\"\n",
              "              style=\"display:none;\">\n",
              "        \n",
              "  <svg xmlns=\"http://www.w3.org/2000/svg\" height=\"24px\"viewBox=\"0 0 24 24\"\n",
              "       width=\"24px\">\n",
              "    <path d=\"M0 0h24v24H0V0z\" fill=\"none\"/>\n",
              "    <path d=\"M18.56 5.44l.94 2.06.94-2.06 2.06-.94-2.06-.94-.94-2.06-.94 2.06-2.06.94zm-11 1L8.5 8.5l.94-2.06 2.06-.94-2.06-.94L8.5 2.5l-.94 2.06-2.06.94zm10 10l.94 2.06.94-2.06 2.06-.94-2.06-.94-.94-2.06-.94 2.06-2.06.94z\"/><path d=\"M17.41 7.96l-1.37-1.37c-.4-.4-.92-.59-1.43-.59-.52 0-1.04.2-1.43.59L10.3 9.45l-7.72 7.72c-.78.78-.78 2.05 0 2.83L4 21.41c.39.39.9.59 1.41.59.51 0 1.02-.2 1.41-.59l7.78-7.78 2.81-2.81c.8-.78.8-2.07 0-2.86zM5.41 20L4 18.59l7.72-7.72 1.47 1.35L5.41 20z\"/>\n",
              "  </svg>\n",
              "      </button>\n",
              "      \n",
              "  <style>\n",
              "    .colab-df-container {\n",
              "      display:flex;\n",
              "      flex-wrap:wrap;\n",
              "      gap: 12px;\n",
              "    }\n",
              "\n",
              "    .colab-df-convert {\n",
              "      background-color: #E8F0FE;\n",
              "      border: none;\n",
              "      border-radius: 50%;\n",
              "      cursor: pointer;\n",
              "      display: none;\n",
              "      fill: #1967D2;\n",
              "      height: 32px;\n",
              "      padding: 0 0 0 0;\n",
              "      width: 32px;\n",
              "    }\n",
              "\n",
              "    .colab-df-convert:hover {\n",
              "      background-color: #E2EBFA;\n",
              "      box-shadow: 0px 1px 2px rgba(60, 64, 67, 0.3), 0px 1px 3px 1px rgba(60, 64, 67, 0.15);\n",
              "      fill: #174EA6;\n",
              "    }\n",
              "\n",
              "    [theme=dark] .colab-df-convert {\n",
              "      background-color: #3B4455;\n",
              "      fill: #D2E3FC;\n",
              "    }\n",
              "\n",
              "    [theme=dark] .colab-df-convert:hover {\n",
              "      background-color: #434B5C;\n",
              "      box-shadow: 0px 1px 3px 1px rgba(0, 0, 0, 0.15);\n",
              "      filter: drop-shadow(0px 1px 2px rgba(0, 0, 0, 0.3));\n",
              "      fill: #FFFFFF;\n",
              "    }\n",
              "  </style>\n",
              "\n",
              "      <script>\n",
              "        const buttonEl =\n",
              "          document.querySelector('#df-9cfda4f9-4400-42e3-b85f-3f93c986d798 button.colab-df-convert');\n",
              "        buttonEl.style.display =\n",
              "          google.colab.kernel.accessAllowed ? 'block' : 'none';\n",
              "\n",
              "        async function convertToInteractive(key) {\n",
              "          const element = document.querySelector('#df-9cfda4f9-4400-42e3-b85f-3f93c986d798');\n",
              "          const dataTable =\n",
              "            await google.colab.kernel.invokeFunction('convertToInteractive',\n",
              "                                                     [key], {});\n",
              "          if (!dataTable) return;\n",
              "\n",
              "          const docLinkHtml = 'Like what you see? Visit the ' +\n",
              "            '<a target=\"_blank\" href=https://colab.research.google.com/notebooks/data_table.ipynb>data table notebook</a>'\n",
              "            + ' to learn more about interactive tables.';\n",
              "          element.innerHTML = '';\n",
              "          dataTable['output_type'] = 'display_data';\n",
              "          await google.colab.output.renderOutput(dataTable, element);\n",
              "          const docLink = document.createElement('div');\n",
              "          docLink.innerHTML = docLinkHtml;\n",
              "          element.appendChild(docLink);\n",
              "        }\n",
              "      </script>\n",
              "    </div>\n",
              "  </div>\n",
              "  "
            ],
            "text/plain": [
              "            평균기온      최대풍속      평균풍속\n",
              "month                               \n",
              "3       6.250323  8.871935  4.390291\n",
              "4      11.064667  9.305017  4.622483\n",
              "5      16.564194  8.548710  4.219355"
            ]
          },
          "metadata": {},
          "execution_count": 150
        }
      ]
    },
    {
      "cell_type": "code",
      "source": [
        "import pandas as pd\n",
        "df_1 = pd.DataFrame({'item' : ['ring0', 'ring0', 'ring1', 'ring1'],\n",
        "                     'type' : ['Gold', 'Silver', 'Gold', 'Bronze'],\n",
        "                     'price' : [20000, 10000, 50000, 30000]})\n",
        "df_1"
      ],
      "metadata": {
        "colab": {
          "base_uri": "https://localhost:8080/",
          "height": 175
        },
        "id": "Iy0-zJj4tR7E",
        "outputId": "242a275d-5eb9-469b-d580-8448367732f8"
      },
      "execution_count": 151,
      "outputs": [
        {
          "output_type": "execute_result",
          "data": {
            "text/html": [
              "\n",
              "  <div id=\"df-8381e957-8063-4ee6-a77c-75c2762bf64d\">\n",
              "    <div class=\"colab-df-container\">\n",
              "      <div>\n",
              "<style scoped>\n",
              "    .dataframe tbody tr th:only-of-type {\n",
              "        vertical-align: middle;\n",
              "    }\n",
              "\n",
              "    .dataframe tbody tr th {\n",
              "        vertical-align: top;\n",
              "    }\n",
              "\n",
              "    .dataframe thead th {\n",
              "        text-align: right;\n",
              "    }\n",
              "</style>\n",
              "<table border=\"1\" class=\"dataframe\">\n",
              "  <thead>\n",
              "    <tr style=\"text-align: right;\">\n",
              "      <th></th>\n",
              "      <th>item</th>\n",
              "      <th>type</th>\n",
              "      <th>price</th>\n",
              "    </tr>\n",
              "  </thead>\n",
              "  <tbody>\n",
              "    <tr>\n",
              "      <th>0</th>\n",
              "      <td>ring0</td>\n",
              "      <td>Gold</td>\n",
              "      <td>20000</td>\n",
              "    </tr>\n",
              "    <tr>\n",
              "      <th>1</th>\n",
              "      <td>ring0</td>\n",
              "      <td>Silver</td>\n",
              "      <td>10000</td>\n",
              "    </tr>\n",
              "    <tr>\n",
              "      <th>2</th>\n",
              "      <td>ring1</td>\n",
              "      <td>Gold</td>\n",
              "      <td>50000</td>\n",
              "    </tr>\n",
              "    <tr>\n",
              "      <th>3</th>\n",
              "      <td>ring1</td>\n",
              "      <td>Bronze</td>\n",
              "      <td>30000</td>\n",
              "    </tr>\n",
              "  </tbody>\n",
              "</table>\n",
              "</div>\n",
              "      <button class=\"colab-df-convert\" onclick=\"convertToInteractive('df-8381e957-8063-4ee6-a77c-75c2762bf64d')\"\n",
              "              title=\"Convert this dataframe to an interactive table.\"\n",
              "              style=\"display:none;\">\n",
              "        \n",
              "  <svg xmlns=\"http://www.w3.org/2000/svg\" height=\"24px\"viewBox=\"0 0 24 24\"\n",
              "       width=\"24px\">\n",
              "    <path d=\"M0 0h24v24H0V0z\" fill=\"none\"/>\n",
              "    <path d=\"M18.56 5.44l.94 2.06.94-2.06 2.06-.94-2.06-.94-.94-2.06-.94 2.06-2.06.94zm-11 1L8.5 8.5l.94-2.06 2.06-.94-2.06-.94L8.5 2.5l-.94 2.06-2.06.94zm10 10l.94 2.06.94-2.06 2.06-.94-2.06-.94-.94-2.06-.94 2.06-2.06.94z\"/><path d=\"M17.41 7.96l-1.37-1.37c-.4-.4-.92-.59-1.43-.59-.52 0-1.04.2-1.43.59L10.3 9.45l-7.72 7.72c-.78.78-.78 2.05 0 2.83L4 21.41c.39.39.9.59 1.41.59.51 0 1.02-.2 1.41-.59l7.78-7.78 2.81-2.81c.8-.78.8-2.07 0-2.86zM5.41 20L4 18.59l7.72-7.72 1.47 1.35L5.41 20z\"/>\n",
              "  </svg>\n",
              "      </button>\n",
              "      \n",
              "  <style>\n",
              "    .colab-df-container {\n",
              "      display:flex;\n",
              "      flex-wrap:wrap;\n",
              "      gap: 12px;\n",
              "    }\n",
              "\n",
              "    .colab-df-convert {\n",
              "      background-color: #E8F0FE;\n",
              "      border: none;\n",
              "      border-radius: 50%;\n",
              "      cursor: pointer;\n",
              "      display: none;\n",
              "      fill: #1967D2;\n",
              "      height: 32px;\n",
              "      padding: 0 0 0 0;\n",
              "      width: 32px;\n",
              "    }\n",
              "\n",
              "    .colab-df-convert:hover {\n",
              "      background-color: #E2EBFA;\n",
              "      box-shadow: 0px 1px 2px rgba(60, 64, 67, 0.3), 0px 1px 3px 1px rgba(60, 64, 67, 0.15);\n",
              "      fill: #174EA6;\n",
              "    }\n",
              "\n",
              "    [theme=dark] .colab-df-convert {\n",
              "      background-color: #3B4455;\n",
              "      fill: #D2E3FC;\n",
              "    }\n",
              "\n",
              "    [theme=dark] .colab-df-convert:hover {\n",
              "      background-color: #434B5C;\n",
              "      box-shadow: 0px 1px 3px 1px rgba(0, 0, 0, 0.15);\n",
              "      filter: drop-shadow(0px 1px 2px rgba(0, 0, 0, 0.3));\n",
              "      fill: #FFFFFF;\n",
              "    }\n",
              "  </style>\n",
              "\n",
              "      <script>\n",
              "        const buttonEl =\n",
              "          document.querySelector('#df-8381e957-8063-4ee6-a77c-75c2762bf64d button.colab-df-convert');\n",
              "        buttonEl.style.display =\n",
              "          google.colab.kernel.accessAllowed ? 'block' : 'none';\n",
              "\n",
              "        async function convertToInteractive(key) {\n",
              "          const element = document.querySelector('#df-8381e957-8063-4ee6-a77c-75c2762bf64d');\n",
              "          const dataTable =\n",
              "            await google.colab.kernel.invokeFunction('convertToInteractive',\n",
              "                                                     [key], {});\n",
              "          if (!dataTable) return;\n",
              "\n",
              "          const docLinkHtml = 'Like what you see? Visit the ' +\n",
              "            '<a target=\"_blank\" href=https://colab.research.google.com/notebooks/data_table.ipynb>data table notebook</a>'\n",
              "            + ' to learn more about interactive tables.';\n",
              "          element.innerHTML = '';\n",
              "          dataTable['output_type'] = 'display_data';\n",
              "          await google.colab.output.renderOutput(dataTable, element);\n",
              "          const docLink = document.createElement('div');\n",
              "          docLink.innerHTML = docLinkHtml;\n",
              "          element.appendChild(docLink);\n",
              "        }\n",
              "      </script>\n",
              "    </div>\n",
              "  </div>\n",
              "  "
            ],
            "text/plain": [
              "    item    type  price\n",
              "0  ring0    Gold  20000\n",
              "1  ring0  Silver  10000\n",
              "2  ring1    Gold  50000\n",
              "3  ring1  Bronze  30000"
            ]
          },
          "metadata": {},
          "execution_count": 151
        }
      ]
    },
    {
      "cell_type": "code",
      "source": [
        "df_2 = df_1.pivot(index='item', columns='type', values='price') # 행을 item으로, 열을 type으로, 값을 price로\n",
        "df_2"
      ],
      "metadata": {
        "colab": {
          "base_uri": "https://localhost:8080/",
          "height": 143
        },
        "id": "BdhPkp6pt5R0",
        "outputId": "725adaa6-121e-421d-cc4f-3dbfc0f3c088"
      },
      "execution_count": 153,
      "outputs": [
        {
          "output_type": "execute_result",
          "data": {
            "text/html": [
              "\n",
              "  <div id=\"df-3fb0e9fc-1ddc-433b-a983-ab7836012bb5\">\n",
              "    <div class=\"colab-df-container\">\n",
              "      <div>\n",
              "<style scoped>\n",
              "    .dataframe tbody tr th:only-of-type {\n",
              "        vertical-align: middle;\n",
              "    }\n",
              "\n",
              "    .dataframe tbody tr th {\n",
              "        vertical-align: top;\n",
              "    }\n",
              "\n",
              "    .dataframe thead th {\n",
              "        text-align: right;\n",
              "    }\n",
              "</style>\n",
              "<table border=\"1\" class=\"dataframe\">\n",
              "  <thead>\n",
              "    <tr style=\"text-align: right;\">\n",
              "      <th>type</th>\n",
              "      <th>Bronze</th>\n",
              "      <th>Gold</th>\n",
              "      <th>Silver</th>\n",
              "    </tr>\n",
              "    <tr>\n",
              "      <th>item</th>\n",
              "      <th></th>\n",
              "      <th></th>\n",
              "      <th></th>\n",
              "    </tr>\n",
              "  </thead>\n",
              "  <tbody>\n",
              "    <tr>\n",
              "      <th>ring0</th>\n",
              "      <td>NaN</td>\n",
              "      <td>20000.0</td>\n",
              "      <td>10000.0</td>\n",
              "    </tr>\n",
              "    <tr>\n",
              "      <th>ring1</th>\n",
              "      <td>30000.0</td>\n",
              "      <td>50000.0</td>\n",
              "      <td>NaN</td>\n",
              "    </tr>\n",
              "  </tbody>\n",
              "</table>\n",
              "</div>\n",
              "      <button class=\"colab-df-convert\" onclick=\"convertToInteractive('df-3fb0e9fc-1ddc-433b-a983-ab7836012bb5')\"\n",
              "              title=\"Convert this dataframe to an interactive table.\"\n",
              "              style=\"display:none;\">\n",
              "        \n",
              "  <svg xmlns=\"http://www.w3.org/2000/svg\" height=\"24px\"viewBox=\"0 0 24 24\"\n",
              "       width=\"24px\">\n",
              "    <path d=\"M0 0h24v24H0V0z\" fill=\"none\"/>\n",
              "    <path d=\"M18.56 5.44l.94 2.06.94-2.06 2.06-.94-2.06-.94-.94-2.06-.94 2.06-2.06.94zm-11 1L8.5 8.5l.94-2.06 2.06-.94-2.06-.94L8.5 2.5l-.94 2.06-2.06.94zm10 10l.94 2.06.94-2.06 2.06-.94-2.06-.94-.94-2.06-.94 2.06-2.06.94z\"/><path d=\"M17.41 7.96l-1.37-1.37c-.4-.4-.92-.59-1.43-.59-.52 0-1.04.2-1.43.59L10.3 9.45l-7.72 7.72c-.78.78-.78 2.05 0 2.83L4 21.41c.39.39.9.59 1.41.59.51 0 1.02-.2 1.41-.59l7.78-7.78 2.81-2.81c.8-.78.8-2.07 0-2.86zM5.41 20L4 18.59l7.72-7.72 1.47 1.35L5.41 20z\"/>\n",
              "  </svg>\n",
              "      </button>\n",
              "      \n",
              "  <style>\n",
              "    .colab-df-container {\n",
              "      display:flex;\n",
              "      flex-wrap:wrap;\n",
              "      gap: 12px;\n",
              "    }\n",
              "\n",
              "    .colab-df-convert {\n",
              "      background-color: #E8F0FE;\n",
              "      border: none;\n",
              "      border-radius: 50%;\n",
              "      cursor: pointer;\n",
              "      display: none;\n",
              "      fill: #1967D2;\n",
              "      height: 32px;\n",
              "      padding: 0 0 0 0;\n",
              "      width: 32px;\n",
              "    }\n",
              "\n",
              "    .colab-df-convert:hover {\n",
              "      background-color: #E2EBFA;\n",
              "      box-shadow: 0px 1px 2px rgba(60, 64, 67, 0.3), 0px 1px 3px 1px rgba(60, 64, 67, 0.15);\n",
              "      fill: #174EA6;\n",
              "    }\n",
              "\n",
              "    [theme=dark] .colab-df-convert {\n",
              "      background-color: #3B4455;\n",
              "      fill: #D2E3FC;\n",
              "    }\n",
              "\n",
              "    [theme=dark] .colab-df-convert:hover {\n",
              "      background-color: #434B5C;\n",
              "      box-shadow: 0px 1px 3px 1px rgba(0, 0, 0, 0.15);\n",
              "      filter: drop-shadow(0px 1px 2px rgba(0, 0, 0, 0.3));\n",
              "      fill: #FFFFFF;\n",
              "    }\n",
              "  </style>\n",
              "\n",
              "      <script>\n",
              "        const buttonEl =\n",
              "          document.querySelector('#df-3fb0e9fc-1ddc-433b-a983-ab7836012bb5 button.colab-df-convert');\n",
              "        buttonEl.style.display =\n",
              "          google.colab.kernel.accessAllowed ? 'block' : 'none';\n",
              "\n",
              "        async function convertToInteractive(key) {\n",
              "          const element = document.querySelector('#df-3fb0e9fc-1ddc-433b-a983-ab7836012bb5');\n",
              "          const dataTable =\n",
              "            await google.colab.kernel.invokeFunction('convertToInteractive',\n",
              "                                                     [key], {});\n",
              "          if (!dataTable) return;\n",
              "\n",
              "          const docLinkHtml = 'Like what you see? Visit the ' +\n",
              "            '<a target=\"_blank\" href=https://colab.research.google.com/notebooks/data_table.ipynb>data table notebook</a>'\n",
              "            + ' to learn more about interactive tables.';\n",
              "          element.innerHTML = '';\n",
              "          dataTable['output_type'] = 'display_data';\n",
              "          await google.colab.output.renderOutput(dataTable, element);\n",
              "          const docLink = document.createElement('div');\n",
              "          docLink.innerHTML = docLinkHtml;\n",
              "          element.appendChild(docLink);\n",
              "        }\n",
              "      </script>\n",
              "    </div>\n",
              "  </div>\n",
              "  "
            ],
            "text/plain": [
              "type    Bronze     Gold   Silver\n",
              "item                            \n",
              "ring0      NaN  20000.0  10000.0\n",
              "ring1  30000.0  50000.0      NaN"
            ]
          },
          "metadata": {},
          "execution_count": 153
        }
      ]
    },
    {
      "cell_type": "code",
      "source": [
        "df_1 = pd.DataFrame({'A' : ['a10', 'a11', 'a12'],\n",
        "                     'B' : ['b10', 'b11', 'b12'],\n",
        "                     'C' : ['c10', 'c11', 'c12']},\n",
        "                    index = ['가', '나', '다'])\n",
        "df_2 = pd.DataFrame({'B' : ['b23', 'b24', 'b25'],\n",
        "                     'C' : ['c23', 'c24', 'c25'],\n",
        "                     'D' : ['d23', 'd24', 'd25']},\n",
        "                    index = ['다', '라', '마'])\n",
        "print(df_1)\n",
        "print(df_2)"
      ],
      "metadata": {
        "colab": {
          "base_uri": "https://localhost:8080/"
        },
        "id": "Vv6ePUgxuBsM",
        "outputId": "fc468edf-3a04-47b6-b5d3-cb89b48bc9ca"
      },
      "execution_count": 156,
      "outputs": [
        {
          "output_type": "stream",
          "name": "stdout",
          "text": [
            "     A    B    C\n",
            "가  a10  b10  c10\n",
            "나  a11  b11  c11\n",
            "다  a12  b12  c12\n",
            "     B    C    D\n",
            "다  b23  c23  d23\n",
            "라  b24  c24  d24\n",
            "마  b25  c25  d25\n"
          ]
        }
      ]
    },
    {
      "cell_type": "code",
      "source": [
        "# pandas.concat(df_list, axis=0, join='outer')\n",
        "# df_list : 합칠 데이터프레임의 리스트 [a,b]\n",
        "# axis : 0이면 행을 늘려가며 붙이고, 1이면 열을 늘려가며 붙인다.\n",
        "# join : 테이블들을 붙일 때 레이블들을 어떻게 사용할지 결정한다. outer이면 레이블들의 합집합 생성, inner이면 레이블들의 교집합으로 생성\n",
        "df_3 =pd.concat([df_1, df_2]) # df_1과 df_2를 합치기\n",
        "print(df_3)"
      ],
      "metadata": {
        "colab": {
          "base_uri": "https://localhost:8080/"
        },
        "id": "m15M_EWMvPzx",
        "outputId": "c9e128ff-6016-466f-e7f5-b00700bc7059"
      },
      "execution_count": 157,
      "outputs": [
        {
          "output_type": "stream",
          "name": "stdout",
          "text": [
            "     A    B    C    D\n",
            "가  a10  b10  c10  NaN\n",
            "나  a11  b11  c11  NaN\n",
            "다  a12  b12  c12  NaN\n",
            "다  NaN  b23  c23  d23\n",
            "라  NaN  b24  c24  d24\n",
            "마  NaN  b25  c25  d25\n"
          ]
        }
      ]
    },
    {
      "cell_type": "code",
      "source": [
        "# DataFrame.merge(right, how='inner', on=None)\n",
        "# right : 현재의 데이터프레임과 결합할 데이터프레임\n",
        "# how : 결합의 방식 'left', 'right', 'inner', 'outer' 가능\n",
        "# on : 조인 연산을 수행하기 위해 사용할 레이블 (두 데이터프레임 모두에 존재해야 함)\n",
        "\n",
        "print('left outer \\n', df_1.merge(df_2, how='left', on='B'))\n",
        "print('right outer \\n', df_1.merge(df_2, how='right', on='B'))\n",
        "print('full outer \\n', df_1.merge(df_2, how='outer', on='B'))\n",
        "print('inner \\n', df_1.merge(df_2, how='inner', on='B'))"
      ],
      "metadata": {
        "colab": {
          "base_uri": "https://localhost:8080/"
        },
        "id": "Iplnn2ICve4b",
        "outputId": "32aaffd9-2858-421e-8830-6ac1a61c6082"
      },
      "execution_count": 158,
      "outputs": [
        {
          "output_type": "stream",
          "name": "stdout",
          "text": [
            "left outer \n",
            "      A    B  C_x  C_y    D\n",
            "0  a10  b10  c10  NaN  NaN\n",
            "1  a11  b11  c11  NaN  NaN\n",
            "2  a12  b12  c12  NaN  NaN\n",
            "right outer \n",
            "      A    B  C_x  C_y    D\n",
            "0  NaN  b23  NaN  c23  d23\n",
            "1  NaN  b24  NaN  c24  d24\n",
            "2  NaN  b25  NaN  c25  d25\n",
            "full outer \n",
            "      A    B  C_x  C_y    D\n",
            "0  a10  b10  c10  NaN  NaN\n",
            "1  a11  b11  c11  NaN  NaN\n",
            "2  a12  b12  c12  NaN  NaN\n",
            "3  NaN  b23  NaN  c23  d23\n",
            "4  NaN  b24  NaN  c24  d24\n",
            "5  NaN  b25  NaN  c25  d25\n",
            "inner \n",
            " Empty DataFrame\n",
            "Columns: [A, B, C_x, C_y, D]\n",
            "Index: []\n"
          ]
        }
      ]
    },
    {
      "cell_type": "code",
      "source": [
        "df_3 = df_1.merge(df_2, how='outer', on='B')\n",
        "print(df_3)"
      ],
      "metadata": {
        "colab": {
          "base_uri": "https://localhost:8080/"
        },
        "id": "qCBAXYGhxPgx",
        "outputId": "21ff1593-87ba-4fc9-bcb8-2852f675d21c"
      },
      "execution_count": 160,
      "outputs": [
        {
          "output_type": "stream",
          "name": "stdout",
          "text": [
            "     A    B  C_x  C_y    D\n",
            "0  a10  b10  c10  NaN  NaN\n",
            "1  a11  b11  c11  NaN  NaN\n",
            "2  a12  b12  c12  NaN  NaN\n",
            "3  NaN  b23  NaN  c23  d23\n",
            "4  NaN  b24  NaN  c24  d24\n",
            "5  NaN  b25  NaN  c25  d25\n"
          ]
        }
      ]
    },
    {
      "cell_type": "code",
      "source": [
        "df_3 = df_1.merge(df_2, how='outer', left_index=True, right_index = True)\n",
        "print(df_3)"
      ],
      "metadata": {
        "colab": {
          "base_uri": "https://localhost:8080/"
        },
        "id": "wANP8zCh3DC3",
        "outputId": "80f28536-9c07-4699-e383-8e2ebb58050b"
      },
      "execution_count": 161,
      "outputs": [
        {
          "output_type": "stream",
          "name": "stdout",
          "text": [
            "     A  B_x  C_x  B_y  C_y    D\n",
            "가  a10  b10  c10  NaN  NaN  NaN\n",
            "나  a11  b11  c11  NaN  NaN  NaN\n",
            "다  a12  b12  c12  b23  c23  d23\n",
            "라  NaN  NaN  NaN  b24  c24  d24\n",
            "마  NaN  NaN  NaN  b25  c25  d25\n"
          ]
        }
      ]
    },
    {
      "cell_type": "code",
      "source": [
        ""
      ],
      "metadata": {
        "id": "motdTMdn3sR3"
      },
      "execution_count": null,
      "outputs": []
    }
  ]
}